{
 "cells": [
  {
   "cell_type": "code",
   "execution_count": 1,
   "metadata": {
    "collapsed": true
   },
   "outputs": [],
   "source": [
    "import torch\n",
    "from sklearn.preprocessing import StandardScaler\n",
    "\n",
    "import dataset\n",
    "import models\n",
    "\n",
    "import pytorch_lightning as pl\n",
    "\n",
    "from torch.utils.data import DataLoader\n"
   ]
  },
  {
   "cell_type": "code",
   "execution_count": 2,
   "metadata": {
    "pycharm": {
     "name": "#%%\n"
    }
   },
   "outputs": [],
   "source": [
    "train = dataset.PickleTraceDataset('./data/DPO4032_10_211102-181109.pkl', trace_size=35000, scaler=StandardScaler())\n",
    "test = dataset.PickleTraceDataset('./data/DPO4032_10_211103-161117.pkl', trace_size=35000, scaler=StandardScaler())\n",
    "train_loader = DataLoader(train, batch_size=64, shuffle=True)\n",
    "test_loader = DataLoader(test, batch_size=64, shuffle=True)"
   ]
  },
  {
   "cell_type": "code",
   "execution_count": 3,
   "metadata": {
    "pycharm": {
     "name": "#%%\n"
    }
   },
   "outputs": [],
   "source": [
    "net = models.CNNModel(learning_rate=2e-4, weight_decay=5e-3)"
   ]
  },
  {
   "cell_type": "code",
   "execution_count": 4,
   "outputs": [
    {
     "name": "stderr",
     "output_type": "stream",
     "text": [
      "GPU available: True, used: True\n",
      "TPU available: False, using: 0 TPU cores\n",
      "IPU available: False, using: 0 IPUs\n",
      "LOCAL_RANK: 0 - CUDA_VISIBLE_DEVICES: [0]\n",
      "\n",
      "  | Name        | Type             | Params\n",
      "-------------------------------------------------\n",
      "0 | criterion   | CrossEntropyLoss | 0     \n",
      "1 | sparse_conv | Sequential       | 71    \n",
      "2 | dense_conv  | Sequential       | 201   \n",
      "3 | fc          | Sequential       | 6.6 M \n",
      "-------------------------------------------------\n",
      "6.6 M     Trainable params\n",
      "0         Non-trainable params\n",
      "6.6 M     Total params\n",
      "26.221    Total estimated model params size (MB)\n"
     ]
    },
    {
     "data": {
      "text/plain": "HBox(children=(HTML(value='Validation sanity check'), FloatProgress(value=1.0, bar_style='info', layout=Layout…",
      "application/vnd.jupyter.widget-view+json": {
       "version_major": 2,
       "version_minor": 0,
       "model_id": "778edd1fdfb944c4a16a68baa9964b81"
      }
     },
     "metadata": {},
     "output_type": "display_data"
    },
    {
     "name": "stderr",
     "output_type": "stream",
     "text": [
      "C:\\Users\\TecGun\\anaconda3\\envs\\CPA\\lib\\site-packages\\pytorch_lightning\\trainer\\data_loading.py:376: UserWarning: Your val_dataloader has `shuffle=True`, it is best practice to turn this off for val/test/predict dataloaders.\n",
      "  rank_zero_warn(\n",
      "C:\\Users\\TecGun\\anaconda3\\envs\\CPA\\lib\\site-packages\\pytorch_lightning\\trainer\\data_loading.py:105: UserWarning: The dataloader, val dataloader 0, does not have many workers which may be a bottleneck. Consider increasing the value of the `num_workers` argument` (try 4 which is the number of cpus on this machine) in the `DataLoader` init to improve performance.\n",
      "  rank_zero_warn(\n",
      "C:\\Users\\TecGun\\anaconda3\\envs\\CPA\\lib\\site-packages\\deprecate\\deprecation.py:115: LightningDeprecationWarning: The `accuracy` was deprecated since v1.3.0 in favor of `torchmetrics.functional.classification.accuracy.accuracy`. It will be removed in v1.5.0.\n",
      "  stream(template_mgs % msg_args)\n",
      "C:\\Users\\TecGun\\anaconda3\\envs\\CPA\\lib\\site-packages\\pytorch_lightning\\trainer\\data_loading.py:105: UserWarning: The dataloader, train dataloader, does not have many workers which may be a bottleneck. Consider increasing the value of the `num_workers` argument` (try 4 which is the number of cpus on this machine) in the `DataLoader` init to improve performance.\n",
      "  rank_zero_warn(\n",
      "C:\\Users\\TecGun\\anaconda3\\envs\\CPA\\lib\\site-packages\\pytorch_lightning\\trainer\\data_loading.py:326: UserWarning: The number of training samples (40) is smaller than the logging interval Trainer(log_every_n_steps=50). Set a lower value for log_every_n_steps if you want to see logs for the training epoch.\n",
      "  rank_zero_warn(\n"
     ]
    },
    {
     "data": {
      "text/plain": "HBox(children=(HTML(value='Training'), FloatProgress(value=1.0, bar_style='info', layout=Layout(flex='2'), max…",
      "application/vnd.jupyter.widget-view+json": {
       "version_major": 2,
       "version_minor": 0,
       "model_id": "dd5499340b3b4b8ba35dfdde84930851"
      }
     },
     "metadata": {},
     "output_type": "display_data"
    },
    {
     "name": "stderr",
     "output_type": "stream",
     "text": [
      "C:\\Users\\TecGun\\anaconda3\\envs\\CPA\\lib\\site-packages\\pytorch_lightning\\trainer\\connectors\\logger_connector\\result.py:405: LightningDeprecationWarning: One of the returned values {'log', 'correct', 'total'} has a `grad_fn`. We will detach it automatically but this behaviour will change in v1.6. Please detach it manually: `return {'loss': ..., 'something': something.detach()}`\n",
      "  warning_cache.deprecation(\n"
     ]
    },
    {
     "data": {
      "text/plain": "HBox(children=(HTML(value='Validating'), FloatProgress(value=1.0, bar_style='info', layout=Layout(flex='2'), m…",
      "application/vnd.jupyter.widget-view+json": {
       "version_major": 2,
       "version_minor": 0,
       "model_id": "8fcf5010babb4f3d96581e4c1a73052e"
      }
     },
     "metadata": {},
     "output_type": "display_data"
    },
    {
     "data": {
      "text/plain": "HBox(children=(HTML(value='Validating'), FloatProgress(value=1.0, bar_style='info', layout=Layout(flex='2'), m…",
      "application/vnd.jupyter.widget-view+json": {
       "version_major": 2,
       "version_minor": 0,
       "model_id": "0e03bb280a1f4b729b0546262491f414"
      }
     },
     "metadata": {},
     "output_type": "display_data"
    },
    {
     "data": {
      "text/plain": "HBox(children=(HTML(value='Validating'), FloatProgress(value=1.0, bar_style='info', layout=Layout(flex='2'), m…",
      "application/vnd.jupyter.widget-view+json": {
       "version_major": 2,
       "version_minor": 0,
       "model_id": "d63943a08f4b4dd992d019d949732e41"
      }
     },
     "metadata": {},
     "output_type": "display_data"
    },
    {
     "data": {
      "text/plain": "HBox(children=(HTML(value='Validating'), FloatProgress(value=1.0, bar_style='info', layout=Layout(flex='2'), m…",
      "application/vnd.jupyter.widget-view+json": {
       "version_major": 2,
       "version_minor": 0,
       "model_id": "7d42260874494e438dd92619fa47bc0c"
      }
     },
     "metadata": {},
     "output_type": "display_data"
    },
    {
     "data": {
      "text/plain": "HBox(children=(HTML(value='Validating'), FloatProgress(value=1.0, bar_style='info', layout=Layout(flex='2'), m…",
      "application/vnd.jupyter.widget-view+json": {
       "version_major": 2,
       "version_minor": 0,
       "model_id": "d17141a81e2247ef95bc59922f2ee66d"
      }
     },
     "metadata": {},
     "output_type": "display_data"
    },
    {
     "data": {
      "text/plain": "HBox(children=(HTML(value='Validating'), FloatProgress(value=1.0, bar_style='info', layout=Layout(flex='2'), m…",
      "application/vnd.jupyter.widget-view+json": {
       "version_major": 2,
       "version_minor": 0,
       "model_id": "290b3297555f4c398ab629c88ecb5853"
      }
     },
     "metadata": {},
     "output_type": "display_data"
    },
    {
     "data": {
      "text/plain": "HBox(children=(HTML(value='Validating'), FloatProgress(value=1.0, bar_style='info', layout=Layout(flex='2'), m…",
      "application/vnd.jupyter.widget-view+json": {
       "version_major": 2,
       "version_minor": 0,
       "model_id": "bcd0eb4f58354f69981497a238270fe9"
      }
     },
     "metadata": {},
     "output_type": "display_data"
    },
    {
     "name": "stderr",
     "output_type": "stream",
     "text": [
      "C:\\Users\\TecGun\\anaconda3\\envs\\CPA\\lib\\site-packages\\pytorch_lightning\\trainer\\trainer.py:1051: UserWarning: Detected KeyboardInterrupt, attempting graceful shutdown...\n",
      "  rank_zero_warn(\"Detected KeyboardInterrupt, attempting graceful shutdown...\")\n"
     ]
    }
   ],
   "source": [
    "trainer = pl.Trainer(max_epochs=15, gpus=1)\n",
    "trainer.fit(net, train_loader, test_loader)\n"
   ],
   "metadata": {
    "collapsed": false,
    "pycharm": {
     "name": "#%%\n"
    }
   }
  },
  {
   "cell_type": "code",
   "execution_count": 23,
   "metadata": {
    "pycharm": {
     "name": "#%%\n"
    }
   },
   "outputs": [
    {
     "name": "stdout",
     "output_type": "stream",
     "text": [
      "tensor(0.4219)\n",
      "tensor([224, 243, 208, 158, 208, 110, 223, 223,  35, 132, 251, 153,   7, 177,\n",
      "        229, 243,  99, 102,  53, 178, 208,  56, 213, 217, 218, 147, 156,  11,\n",
      "        248, 249,  63, 238, 183, 131, 253,  80, 227, 139,  78, 171,  13, 231,\n",
      "        212,  96,   4, 218, 216, 160, 235, 193, 161,  67, 230,  98, 222, 162,\n",
      "        107, 106, 252, 230,  59, 125,  26, 122])\n",
      "tensor([194, 230,  76, 112, 155, 110, 113, 214,  42, 109, 251, 153,   7, 177,\n",
      "        229, 205,  99, 102,  63, 163, 232,  38, 213, 217, 162, 147,  39, 143,\n",
      "         75,  24, 243, 238, 183, 145,  28,  80, 227, 139,   7, 171, 138, 239,\n",
      "        212,  96, 172,  67, 216, 226, 134, 193,  71,  67, 128,  98, 222, 162,\n",
      "        107,  89,  30, 127,  57, 119,  26, 148])\n",
      "tensor(0.4531)\n",
      "tensor([185,   2, 228,  36,  96,   8,  21, 110,  61, 198, 108, 105, 156,  22,\n",
      "        156, 227, 214,  45,  87, 165,  50, 242, 136, 218, 209, 100,  28,  18,\n",
      "        135,  68,  96,  33, 133, 229,  13, 153,  50, 239,   3, 247, 185, 146,\n",
      "         52,  83, 174, 137,  37, 207, 234, 223, 178, 140, 160, 113, 136, 105,\n",
      "        243, 137, 239,  69, 247, 168,  77, 210])\n",
      "tensor([185,  53, 228,  36, 198,   8,  21, 184, 182, 198, 177,  43,  76,  22,\n",
      "         82, 227, 133,  45,  87, 165, 115,  36, 136, 218, 138,  98,  28, 146,\n",
      "        240, 232,  96,  33,  17,  12, 160, 231,  50,  95, 190, 247, 185, 195,\n",
      "         76, 172,  59, 137, 146, 207, 234, 217,  38,  34, 226,  50, 136,  54,\n",
      "         53, 137, 239,  69, 247, 168,  77, 115])\n",
      "tensor(0.4531)\n",
      "tensor([123, 123,  19, 146, 102,  95, 183,  27,  56, 244,  97, 235,  43,  66,\n",
      "        153, 120, 234, 101, 158, 245,  90,  99, 192,  83,  47, 216, 243,  92,\n",
      "        105, 113, 214, 100, 188, 209,  61, 234, 224,  63, 181, 243, 186, 225,\n",
      "         13, 201,  55, 144,  95,  20, 251, 138, 133, 158,  39, 183, 242, 192,\n",
      "        218, 196, 214,  90, 107,  35,   2, 246])\n",
      "tensor([123,  11,  19, 204,  53,   9, 202, 169,  73, 244,  97, 153,  59,  66,\n",
      "         96, 120, 242,  68,  57, 127, 215,  99, 192,  83, 124, 216,  57,  92,\n",
      "        175, 134,  99, 100,  31,  38, 227, 234, 133,  45, 181, 243, 186, 154,\n",
      "        121, 109,  55, 144,  95,  20, 251, 138,  17, 172,  39, 191, 242, 214,\n",
      "        218, 200, 107,  58, 107,  35,   2, 246])\n",
      "tensor(0.4219)\n",
      "tensor([  9, 218, 228, 242, 100,  16,  90, 160,  65, 177, 178,  59, 139, 243,\n",
      "        252, 223, 218, 160, 224, 123, 210,  64,  12, 253, 100, 103,  52,  72,\n",
      "        185, 246, 247,  13, 202,  35,  58,  43, 227, 223, 146, 182,  35, 247,\n",
      "        214, 243, 201,  78, 217,  22,  64, 131,  39, 140, 148,  76, 136, 161,\n",
      "        125,   1, 140, 236,  16,  55,  24, 249])\n",
      "tensor([ 95, 106, 228, 242, 199,  16,  90, 238,  65, 215,  28,  59, 139, 243,\n",
      "        205, 223, 218, 103, 247,  11, 210,  91, 159, 253,  40, 103,  52, 103,\n",
      "        106, 246, 183,  13, 202, 148,  58,  43, 227, 255, 116, 168, 152,  44,\n",
      "         88,  57, 168, 108, 183,  22,  64,  49,  39, 243, 255, 170, 136, 211,\n",
      "        125,   1, 249, 236, 170,  25,  31, 151])\n",
      "tensor(0.4375)\n",
      "tensor([211,  81,  66, 194,  35, 201, 134,  60, 146,  31, 255, 192,  18,  11,\n",
      "         44,  70, 211,  80,  30,  16, 162, 143, 199, 105,  38,  26, 112, 197,\n",
      "        234, 240,   2, 230,  13,  70,  26, 247,  80, 149, 250,  13, 243, 177,\n",
      "        105,  56, 236, 155, 232,  27, 200,  27, 115, 214, 185, 246, 178, 219,\n",
      "        251,  42,  64, 148,  61,  21, 177,  21])\n",
      "tensor([135,  81, 129, 211,  35, 203, 134,  60, 146,  31, 119, 245, 238, 191,\n",
      "         44,  50, 211,  80, 193,  16, 162, 178, 199,  52,  38, 221, 112, 197,\n",
      "        201,  12, 230, 228,  53, 162,  26, 247, 100, 222, 238, 201, 243,  26,\n",
      "        105,  56, 236, 213,  74,  27, 158,  27, 127, 240, 205, 246,  45, 219,\n",
      "        251, 119,  55,  89,  61,  21,  87,  22])\n",
      "tensor(0.3594)\n",
      "tensor([ 54, 217,  66, 244, 237, 165,  63,  53, 137,  27, 121, 174, 155, 214,\n",
      "         87, 179, 207, 243,  63,  27, 143, 148, 223, 119, 148, 107, 162, 140,\n",
      "        150, 145, 113, 140, 222,  63,  53, 149,  73,  63,  59, 203,  15,   3,\n",
      "         81,  85, 153, 159, 149, 210,  83,  61,  96, 176, 102, 171,  18, 178,\n",
      "         30,  56, 251,  56, 145, 223, 216, 199])\n",
      "tensor([ 54,  79,  66, 131, 237, 165, 167,  53, 137,  70, 137, 227,  45, 214,\n",
      "         87,  25, 207, 243,  38,  27,  50, 169, 250, 119,  68, 107, 162, 235,\n",
      "         79, 210, 112,   6, 248,  17, 200, 130, 199, 159, 212,   8, 197, 191,\n",
      "        248,  85, 153,   3, 134, 210,  83, 183, 198, 176, 102,  34, 219,  20,\n",
      "        215,  74, 251,  12, 145,  13, 136, 199])\n",
      "tensor(0.3750)\n",
      "tensor([ 56, 156,  79,  74,  41, 218,   8, 133,  72, 218, 252, 218,  10,  55,\n",
      "         26, 181, 190, 173, 149, 160,  73,  10,  98,  56, 246, 101, 118, 219,\n",
      "         77, 166, 171,  98,  39,  50,  23, 211, 105, 216, 223, 230,  95, 243,\n",
      "        108, 186, 213,   9, 236,  54,  53,  12, 218, 162, 174, 180, 156,  38,\n",
      "        155, 171,  41,  66,   8, 136, 186, 236])\n",
      "tensor([ 56, 224, 165,  74, 170, 123, 158, 133,  90, 188, 142, 218, 127,  31,\n",
      "         26, 181, 190, 173, 141, 160,  73, 171, 168, 142, 246, 101, 127,  11,\n",
      "          3, 130, 145, 145, 221, 195,  70,   0, 105, 118, 153, 174,  95, 155,\n",
      "        108, 198, 213,  33,   6,  54, 208,  12, 149, 174, 174, 180, 156,  90,\n",
      "        155, 248, 226, 144, 225, 136, 238, 236])\n",
      "tensor(0.3125)\n",
      "tensor([221,  89,  56, 243, 106, 222, 217, 143, 109, 114, 148,  56, 223, 235,\n",
      "        252, 247,   8,  69,  90, 116, 106,  27,  36, 155,  17, 221,   8,  59,\n",
      "        200,  45,  69, 123, 247, 143, 168, 201, 211, 243,  56,   9,  56, 241,\n",
      "        217,  50, 116,  29,  36, 220, 203, 243,  38, 213, 180, 140,  63, 252,\n",
      "        247, 125,  66,  18,  67, 249, 108, 155])\n",
      "tensor([221,  89,  19, 130,  11,   8, 241,   8, 109, 222, 242, 182,  74, 235,\n",
      "        205, 247,   8,  27, 250, 116,  32, 143,  36,  43, 150, 180,  23,  59,\n",
      "        200,  17, 107, 123, 199,  26, 168, 240, 176, 219, 225, 154, 186, 241,\n",
      "         57, 184, 116,  31, 129,  78, 188, 189, 244, 213, 180, 140, 152, 211,\n",
      "        212, 125, 158,  18, 150, 182, 108, 210])\n",
      "tensor(0.5312)\n",
      "tensor([224, 101,  57, 110, 156, 106, 221, 228,   0,  46,   4, 243, 175, 223,\n",
      "        205, 208, 219, 100,  17, 224, 149,  34, 252,   3, 159, 247, 131, 125,\n",
      "        140,  55,  50,  20, 212,  98, 140,  93,  63,  54, 125,  97, 223,  74,\n",
      "         70,  42, 237,  39, 192, 165, 105,  56, 218,  91, 131, 181,  74, 234,\n",
      "         42,  85, 230,  64,  13,  16,  21,  56])\n",
      "tensor([ 16, 153, 227, 110,  47, 155, 215, 103, 141, 181,   4, 126, 175, 122,\n",
      "        205, 208, 219, 100, 115, 135, 226,  34, 252,   3, 159, 247,  86, 125,\n",
      "        140,  55, 124,  27, 203,  98, 106,  93,  63,  54, 163,  97,  87,  74,\n",
      "         70,  42, 101,  39, 192, 165, 105, 132, 150,  91, 176, 181,  74, 234,\n",
      "         42, 184, 230, 173,  66, 171, 149,  56])\n",
      "tensor(0.4062)\n",
      "tensor([182, 117, 224, 255, 140,  38, 219, 128, 217, 188,  55,  17,  20, 224,\n",
      "        239,  65,  63,  22, 200,  14, 220, 169, 197, 136, 211, 131, 201,  29,\n",
      "        231,  74,  38,   2,  44, 165, 201,  66, 236, 203, 234,   0, 171, 164,\n",
      "        131, 154,   9, 192,  12, 141, 213,   6, 123, 156, 134, 217, 131, 201,\n",
      "         56, 102,   9, 148, 245, 110, 230, 243])\n",
      "tensor([182, 117,  21,  32,  12, 127,  11, 187, 217, 203, 163,  17,  20, 249,\n",
      "        239,  65, 105,  22,  98,  14, 220,  50,  58, 136, 108, 131,  32,  29,\n",
      "         37,  74, 120,  48,  44, 194, 201, 207, 125, 111, 203,   1, 171, 189,\n",
      "        131, 154,   8,  94, 181, 141, 111, 116,  53, 127, 134, 217, 131, 201,\n",
      "         16, 219, 142, 148, 168, 110, 123,  92])\n"
     ]
    }
   ],
   "source": [
    "for _ in range(10):\n",
    "    feat = next(iter(train_loader))\n",
    "\n",
    "    res = net.forward(feat[0])\n",
    "    print(accuracy(res, feat[1]))\n",
    "    print(torch.argmax(res, dim=1))\n",
    "    print(feat[1])\n"
   ]
  },
  {
   "cell_type": "code",
   "execution_count": 10,
   "outputs": [
    {
     "ename": "NameError",
     "evalue": "name 'output' is not defined",
     "output_type": "error",
     "traceback": [
      "\u001B[1;31m---------------------------------------------------------------------------\u001B[0m",
      "\u001B[1;31mNameError\u001B[0m                                 Traceback (most recent call last)",
      "\u001B[1;32m<ipython-input-10-079c3b8e977d>\u001B[0m in \u001B[0;36m<module>\u001B[1;34m\u001B[0m\n\u001B[0;32m      1\u001B[0m \u001B[1;32mfrom\u001B[0m \u001B[0mpytorch_lightning\u001B[0m\u001B[1;33m.\u001B[0m\u001B[0mmetrics\u001B[0m\u001B[1;33m.\u001B[0m\u001B[0mfunctional\u001B[0m \u001B[1;32mimport\u001B[0m \u001B[0maccuracy\u001B[0m\u001B[1;33m\u001B[0m\u001B[1;33m\u001B[0m\u001B[0m\n\u001B[1;32m----> 2\u001B[1;33m \u001B[0maccuracy\u001B[0m\u001B[1;33m(\u001B[0m\u001B[0moutput\u001B[0m\u001B[1;33m,\u001B[0m \u001B[0mtarget\u001B[0m\u001B[1;33m)\u001B[0m\u001B[1;33m\u001B[0m\u001B[1;33m\u001B[0m\u001B[0m\n\u001B[0m",
      "\u001B[1;31mNameError\u001B[0m: name 'output' is not defined"
     ]
    }
   ],
   "source": [
    "from pytorch_lightning.metrics.functional import accuracy\n",
    "accuracy(res, feat[1])"
   ],
   "metadata": {
    "collapsed": false,
    "pycharm": {
     "name": "#%%\n"
    }
   }
  },
  {
   "cell_type": "code",
   "execution_count": 28,
   "outputs": [
    {
     "name": "stdout",
     "output_type": "stream",
     "text": [
      "torch.Size([32, 256])\n",
      "torch.Size([32])\n"
     ]
    }
   ],
   "source": [
    "print(res.shape)\n",
    "print(feat[1].shape)"
   ],
   "metadata": {
    "collapsed": false,
    "pycharm": {
     "name": "#%%\n"
    }
   }
  },
  {
   "cell_type": "code",
   "execution_count": 5,
   "outputs": [
    {
     "data": {
      "text/plain": "'torch.LongTensor'"
     },
     "execution_count": 5,
     "metadata": {},
     "output_type": "execute_result"
    }
   ],
   "source": [
    "feat[1].type()"
   ],
   "metadata": {
    "collapsed": false,
    "pycharm": {
     "name": "#%%\n"
    }
   }
  },
  {
   "cell_type": "code",
   "execution_count": 31,
   "outputs": [
    {
     "data": {
      "text/plain": "'torch.LongTensor'"
     },
     "execution_count": 31,
     "metadata": {},
     "output_type": "execute_result"
    }
   ],
   "source": [],
   "metadata": {
    "collapsed": false,
    "pycharm": {
     "name": "#%%\n"
    }
   }
  }
 ],
 "metadata": {
  "kernelspec": {
   "display_name": "Python 3",
   "language": "python",
   "name": "python3"
  },
  "language_info": {
   "codemirror_mode": {
    "name": "ipython",
    "version": 3
   },
   "file_extension": ".py",
   "mimetype": "text/x-python",
   "name": "python",
   "nbconvert_exporter": "python",
   "pygments_lexer": "ipython3",
   "version": "3.8.5"
  }
 },
 "nbformat": 4,
 "nbformat_minor": 1
}