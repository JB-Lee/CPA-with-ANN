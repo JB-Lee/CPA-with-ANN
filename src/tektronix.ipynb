{
 "cells": [
  {
   "cell_type": "code",
   "execution_count": 2,
   "metadata": {
    "collapsed": true
   },
   "outputs": [],
   "source": [
    "%matplotlib inline\n",
    "\n",
    "import pyvisa as visa\n",
    "import numpy as np\n",
    "import matplotlib.pyplot as plt\n",
    "\n",
    "from struct import unpack\n",
    "from typing import List"
   ]
  },
  {
   "cell_type": "code",
   "execution_count": 3,
   "metadata": {
    "pycharm": {
     "name": "#%%\n"
    }
   },
   "outputs": [
    {
     "data": {
      "text/plain": "14"
     },
     "execution_count": 3,
     "metadata": {},
     "output_type": "execute_result"
    }
   ],
   "source": [
    "# Settings\n",
    "\n",
    "rm = visa.ResourceManager()\n",
    "instruments = rm.list_resources()\n",
    "\n",
    "scope = rm.open_resource(instruments[0])\n",
    "\n",
    "scope.write('DATA:SOU CH1')\n",
    "scope.write('DATA:WIDTH 1')\n",
    "scope.write('DATA:ENC RPB')"
   ]
  },
  {
   "cell_type": "code",
   "execution_count": 4,
   "metadata": {
    "pycharm": {
     "name": "#%%\n"
    }
   },
   "outputs": [
    {
     "data": {
      "text/plain": "<Figure size 432x288 with 1 Axes>",
      "image/png": "[encoded data removed]"
     },
     "metadata": {
      "needs_background": "light"
     },
     "output_type": "display_data"
    }
   ],
   "source": [
    "def get_data(channel: List[str]):\n",
    "\n",
    "    result = []\n",
    "\n",
    "    # scope.write('ACQuire:STATE OFF')\n",
    "    # scope.write('ACQuire:STOPAfter SEQuence')\n",
    "    # scope.write('ACQuire:STATE ON')\n",
    "    # scope.write('ACQuire:STATE OFF')\n",
    "\n",
    "    for ch in channel:\n",
    "\n",
    "        scope.write(f'DATA:SOU {ch}')\n",
    "\n",
    "        y_mult = float(scope.query('WFMPRE:YMULT?'))\n",
    "        y_zero = float(scope.query('WFMPRE:YZERO?'))\n",
    "        y_off = float(scope.query('WFMPRE:YOFF?'))\n",
    "        x_incr = float(scope.query('WFMPRE:XINCR?'))\n",
    "\n",
    "        scope.write('CURVE?')\n",
    "        data = scope.read_raw()\n",
    "        header_len = 2 + int(data[1])\n",
    "        header = data[:header_len]\n",
    "        ADC_wave = data[header_len:-1]\n",
    "\n",
    "        ADC_wave = np.array(unpack('%sB' % len(ADC_wave), ADC_wave))\n",
    "\n",
    "        Volts = (ADC_wave - y_off) * y_mult + y_zero\n",
    "\n",
    "        Time = np.arange(0, x_incr * len(Volts), x_incr)\n",
    "\n",
    "        result.append((Volts, Time))\n",
    "\n",
    "    scope.write('ACQuire:STOPAfter RUNSTop')\n",
    "    # scope.write('ACQuire:STATE ON')\n",
    "\n",
    "    return result\n",
    "\n",
    "\n",
    "main_trace, trigger_trace = get_data(['CH1', 'CH2'])\n",
    "\n",
    "time = main_trace[1]\n",
    "\n",
    "plt.plot(time, main_trace[0], label='main')\n",
    "plt.plot(time, trigger_trace[0], label='trigger')\n",
    "plt.legend()\n",
    "plt.show()"
   ]
  },
  {
   "cell_type": "code",
   "execution_count": 6,
   "outputs": [
    {
     "name": "stdout",
     "output_type": "stream",
     "text": [
      "1\n",
      "\n",
      "100000\n",
      "\n"
     ]
    }
   ],
   "source": [
    "print(scope.query('DATa:STARt?'))\n",
    "print(scope.query('DATa:STOP?'))\n"
   ],
   "metadata": {
    "collapsed": false,
    "pycharm": {
     "name": "#%%\n"
    }
   }
  }
 ],
 "metadata": {
  "kernelspec": {
   "display_name": "PyCharm (CPA)",
   "language": "python",
   "name": "pycharm-7b74c9c0"
  },
  "language_info": {
   "codemirror_mode": {
    "name": "ipython",
    "version": 3
   },
   "file_extension": ".py",
   "mimetype": "text/x-python",
   "name": "python",
   "nbconvert_exporter": "python",
   "pygments_lexer": "ipython3",
   "version": "3.8.5"
  }
 },
 "nbformat": 4,
 "nbformat_minor": 1
}